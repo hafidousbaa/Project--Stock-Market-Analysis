{
 "cells": [
  {
   "cell_type": "code",
   "execution_count": 1,
   "metadata": {},
   "outputs": [],
   "source": [
    "# Import the necessary packages\n",
    "import numpy as np\n",
    "import random\n",
    "import pandas as pd\n",
    "import matplotlib.pyplot as plt"
   ]
  },
  {
   "cell_type": "code",
   "execution_count": 2,
   "metadata": {},
   "outputs": [],
   "source": [
    "# Read in the data\n",
    "def stockData(stockList):\n",
    "    iteration = 0\n",
    "    for stocks in stockList:\n",
    "        match iteration:\n",
    "            case 0:\n",
    "                stockDf = pd.read_csv(\n",
    "                    stocks,\n",
    "                    parse_dates=[\"Date\"],\n",
    "                    infer_datetime_format=True,\n",
    "                    index_col=\"Date\",\n",
    "                    dayfirst=True,\n",
    "                )\n",
    "                iteration = 1\n",
    "                pass\n",
    "            case 1:\n",
    "                stockDf[stocks.split('/')[-1].split('.')[0]] = pd.read_csv(\n",
    "                    stocks,\n",
    "                    parse_dates=[\"Date\"],\n",
    "                    infer_datetime_format=True,\n",
    "                    index_col=\"Date\",\n",
    "                    dayfirst=True,\n",
    "                )[\"Close\"]\n",
    "                stockDf[stockList[0].split('/')[-1].split('.')[0]] = stockDf[\"Close\"]\n",
    "                stockDf = stockDf.loc[:, list(map(lambda x: x.split('/')[-1].split('.')[0], stockList[:2]))[:2]]\n",
    "                iteration = 2\n",
    "                pass\n",
    "            case 2:\n",
    "                stockDf[stocks.split('/')[-1].split('.')[0]] = pd.read_csv(\n",
    "                    stocks,\n",
    "                    parse_dates=[\"Date\"],\n",
    "                    infer_datetime_format=True,\n",
    "                    index_col=\"Date\",\n",
    "                    dayfirst=True,\n",
    "                )[\"Close\"]\n",
    "                pass\n",
    "        pass\n",
    "    if len(stockList) < 2:\n",
    "        stockDf[stockList[0].split('/')[-1].split('.')[0]] = stockDf[\"Close\"]\n",
    "        return stockDf[stockList[0].split('/')[-1].split('.')[0]]\n",
    "    else:\n",
    "        return stockDf.dropna()\n"
   ]
  },
  {
   "cell_type": "code",
   "execution_count": 3,
   "metadata": {},
   "outputs": [],
   "source": [
    "# Transform data to %Change returns\n",
    "def pctChange(stockDf):\n",
    "    for eachCol in stockDf:\n",
    "        stockDf[eachCol] = stockDf[eachCol] / stockDf[eachCol].shift() - 1\n",
    "        pass\n",
    "    return stockDf.dropna()"
   ]
  },
  {
   "cell_type": "code",
   "execution_count": 4,
   "metadata": {},
   "outputs": [],
   "source": [
    "# Define the scale data function:\n",
    "def scaleData(data, portfolioProportions):\n",
    "    # Scale the data\n",
    "    scaledData = data.copy()\n",
    "    for eachStock in scaledData:\n",
    "        scaledData[eachStock] = data[eachStock] * portfolioProportions[eachStock]\n",
    "        pass\n",
    "    return scaledData"
   ]
  },
  {
   "cell_type": "code",
   "execution_count": 5,
   "metadata": {},
   "outputs": [],
   "source": [
    "# Calculate the average return of the portfolio\n",
    "def averageReturn(scaledData):\n",
    "    return scaledData.sum(axis=1).mean()"
   ]
  },
  {
   "cell_type": "code",
   "execution_count": 6,
   "metadata": {},
   "outputs": [],
   "source": [
    "# Calculate the risk of the portfolio\n",
    "def expectedRisk(scaledData):\n",
    "    return scaledData.sum(axis=1).std()"
   ]
  },
  {
   "cell_type": "code",
   "execution_count": 7,
   "metadata": {},
   "outputs": [],
   "source": [
    "# Analyze the risk and return of 500 random portfolios in the stock list\n",
    "def portfolioAnalysis(stockList, randomPortfolios=500):\n",
    "    # Read in the data\n",
    "    data = pctChange(stockData(stockList))\n",
    "    # Make an empty list of empty dictionaries\n",
    "    portfolioProportions = [{} for i in range(randomPortfolios)]\n",
    "    averageReturns = []\n",
    "    expectedRisks = []\n",
    "    # Make 500 random portfolios from the stock list\n",
    "    for portfolios in range(0, randomPortfolios):\n",
    "        remainder = 1.0\n",
    "        for eachStock in data.columns[:-1]:\n",
    "            proportion = round(random.uniform(0, remainder - 0.01), 2)\n",
    "            portfolioProportions[portfolios][eachStock] = proportion\n",
    "            remainder = remainder - proportion\n",
    "            pass\n",
    "        portfolioProportions[portfolios][data.columns[-1]] = round(remainder, 2)\n",
    "        pass\n",
    "        # Scale the data based on the portfolio proportions\n",
    "        scaledData = scaleData(data, portfolioProportions[portfolios])\n",
    "        # Get average return and risk for each portfolio\n",
    "        averageReturns.append(averageReturn(scaledData))\n",
    "        expectedRisks.append(expectedRisk(scaledData))\n",
    "        pass\n",
    "    return pd.DataFrame(\n",
    "        {\n",
    "            \"Average Return\": averageReturns,\n",
    "            \"Expected Risk\": expectedRisks,\n",
    "            \"Portfolio Make-up\": portfolioProportions,\n",
    "        }\n",
    "    )"
   ]
  },
  {
   "cell_type": "code",
   "execution_count": 8,
   "metadata": {},
   "outputs": [],
   "source": [
    "# Subset the portfolios near the efficient frontier\n",
    "def efficientFrontier(portfolioDF):\n",
    "    portfolioDF[\"Risk Return Ratio\"] = (\n",
    "        portfolioDF.loc[:, \"Average Return\"] / portfolioDF.loc[:, \"Expected Risk\"]\n",
    "    )\n",
    "    return portfolioDF.sort_values(\"Risk Return Ratio\", ascending=False).head(15)"
   ]
  },
  {
   "cell_type": "code",
   "execution_count": 9,
   "metadata": {},
   "outputs": [],
   "source": [
    "# Plot the risk and return of the portfolios\n",
    "def plotPortfolios(portfolioDF):\n",
    "    portfolioDF.plot.scatter(x = \"Expected Risk\", y = \"Average Return\", figsize = (10, 8), xlabel = \"Expected Risk\", ylabel = \"Average Return\", title = \"Risk and Return of Portfolios\")"
   ]
  },
  {
   "cell_type": "code",
   "execution_count": 10,
   "metadata": {},
   "outputs": [],
   "source": [
    "stocks = ['AAPL', 'GOOG']"
   ]
  },
  {
   "cell_type": "code",
   "execution_count": 11,
   "metadata": {},
   "outputs": [],
   "source": [
    "files = []\n",
    "for path in stocks:\n",
    "    x = !find . -name {path}.csv | head -1\n",
    "    files.append(x[0])"
   ]
  },
  {
   "cell_type": "code",
   "execution_count": 12,
   "metadata": {},
   "outputs": [
    {
     "name": "stderr",
     "output_type": "stream",
     "text": [
      "/home/codespace/.local/lib/python3.10/site-packages/pandas/plotting/_matplotlib/core.py:1114: UserWarning: No data for colormapping provided via 'c'. Parameters 'cmap' will be ignored\n",
      "  scatter = ax.scatter(\n"
     ]
    },
    {
     "data": {
      "image/png": "[encoded data removed]",
      "text/plain": [
       "<Figure size 1000x800 with 1 Axes>"
      ]
     },
     "metadata": {},
     "output_type": "display_data"
    }
   ],
   "source": [
    "plotPortfolios(efficientFrontier(portfolioAnalysis(files)))"
   ]
  }
 ],
 "metadata": {
  "kernelspec": {
   "display_name": "Python 3.10.7 64-bit",
   "language": "python",
   "name": "python3"
  },
  "language_info": {
   "codemirror_mode": {
    "name": "ipython",
    "version": 3
   },
   "file_extension": ".py",
   "mimetype": "text/x-python",
   "name": "python",
   "nbconvert_exporter": "python",
   "pygments_lexer": "ipython3",
   "version": "3.10.7"
  },
  "orig_nbformat": 4,
  "vscode": {
   "interpreter": {
    "hash": "7e1998ff7f8aa20ada591c520b972326324e5ea05489af9e422744c7c09f6dad"
   }
  }
 },
 "nbformat": 4,
 "nbformat_minor": 2
}
